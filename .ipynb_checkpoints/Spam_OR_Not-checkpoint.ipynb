{
 "cells": [
  {
   "cell_type": "code",
   "execution_count": 85,
   "id": "2679972f",
   "metadata": {},
   "outputs": [],
   "source": [
    "import pandas as pd"
   ]
  },
  {
   "cell_type": "code",
   "execution_count": 69,
   "id": "0d992c9e",
   "metadata": {},
   "outputs": [],
   "source": [
    "#path = \"http://localhost:8888/edit/Project_Spam_Or_Not/spam.csv\"\n",
    "df = pd.read_csv('spam.csv', encoding=\"ISO-8859-1\")"
   ]
  },
  {
   "cell_type": "code",
   "execution_count": 70,
   "id": "7c620862",
   "metadata": {},
   "outputs": [
    {
     "data": {
      "text/html": [
       "<div>\n",
       "<style scoped>\n",
       "    .dataframe tbody tr th:only-of-type {\n",
       "        vertical-align: middle;\n",
       "    }\n",
       "\n",
       "    .dataframe tbody tr th {\n",
       "        vertical-align: top;\n",
       "    }\n",
       "\n",
       "    .dataframe thead th {\n",
       "        text-align: right;\n",
       "    }\n",
       "</style>\n",
       "<table border=\"1\" class=\"dataframe\">\n",
       "  <thead>\n",
       "    <tr style=\"text-align: right;\">\n",
       "      <th></th>\n",
       "      <th>v1</th>\n",
       "      <th>v2</th>\n",
       "      <th>Unnamed: 2</th>\n",
       "      <th>Unnamed: 3</th>\n",
       "      <th>Unnamed: 4</th>\n",
       "    </tr>\n",
       "  </thead>\n",
       "  <tbody>\n",
       "    <tr>\n",
       "      <th>0</th>\n",
       "      <td>ham</td>\n",
       "      <td>Go until jurong point, crazy.. Available only ...</td>\n",
       "      <td>NaN</td>\n",
       "      <td>NaN</td>\n",
       "      <td>NaN</td>\n",
       "    </tr>\n",
       "    <tr>\n",
       "      <th>1</th>\n",
       "      <td>ham</td>\n",
       "      <td>Ok lar... Joking wif u oni...</td>\n",
       "      <td>NaN</td>\n",
       "      <td>NaN</td>\n",
       "      <td>NaN</td>\n",
       "    </tr>\n",
       "    <tr>\n",
       "      <th>2</th>\n",
       "      <td>spam</td>\n",
       "      <td>Free entry in 2 a wkly comp to win FA Cup fina...</td>\n",
       "      <td>NaN</td>\n",
       "      <td>NaN</td>\n",
       "      <td>NaN</td>\n",
       "    </tr>\n",
       "    <tr>\n",
       "      <th>3</th>\n",
       "      <td>ham</td>\n",
       "      <td>U dun say so early hor... U c already then say...</td>\n",
       "      <td>NaN</td>\n",
       "      <td>NaN</td>\n",
       "      <td>NaN</td>\n",
       "    </tr>\n",
       "    <tr>\n",
       "      <th>4</th>\n",
       "      <td>ham</td>\n",
       "      <td>Nah I don't think he goes to usf, he lives aro...</td>\n",
       "      <td>NaN</td>\n",
       "      <td>NaN</td>\n",
       "      <td>NaN</td>\n",
       "    </tr>\n",
       "  </tbody>\n",
       "</table>\n",
       "</div>"
      ],
      "text/plain": [
       "     v1                                                 v2 Unnamed: 2  \\\n",
       "0   ham  Go until jurong point, crazy.. Available only ...        NaN   \n",
       "1   ham                      Ok lar... Joking wif u oni...        NaN   \n",
       "2  spam  Free entry in 2 a wkly comp to win FA Cup fina...        NaN   \n",
       "3   ham  U dun say so early hor... U c already then say...        NaN   \n",
       "4   ham  Nah I don't think he goes to usf, he lives aro...        NaN   \n",
       "\n",
       "  Unnamed: 3 Unnamed: 4  \n",
       "0        NaN        NaN  \n",
       "1        NaN        NaN  \n",
       "2        NaN        NaN  \n",
       "3        NaN        NaN  \n",
       "4        NaN        NaN  "
      ]
     },
     "execution_count": 70,
     "metadata": {},
     "output_type": "execute_result"
    }
   ],
   "source": [
    "df.head()"
   ]
  },
  {
   "cell_type": "code",
   "execution_count": 71,
   "id": "f632907e",
   "metadata": {},
   "outputs": [
    {
     "data": {
      "text/plain": [
       "(5572, 5)"
      ]
     },
     "execution_count": 71,
     "metadata": {},
     "output_type": "execute_result"
    }
   ],
   "source": [
    "df.shape"
   ]
  },
  {
   "cell_type": "code",
   "execution_count": 72,
   "id": "c94880e5",
   "metadata": {},
   "outputs": [],
   "source": [
    "df = df.where((pd.notnull(df)),'')"
   ]
  },
  {
   "cell_type": "code",
   "execution_count": 80,
   "id": "36c23a0f",
   "metadata": {},
   "outputs": [
    {
     "data": {
      "text/html": [
       "<div>\n",
       "<style scoped>\n",
       "    .dataframe tbody tr th:only-of-type {\n",
       "        vertical-align: middle;\n",
       "    }\n",
       "\n",
       "    .dataframe tbody tr th {\n",
       "        vertical-align: top;\n",
       "    }\n",
       "\n",
       "    .dataframe thead th {\n",
       "        text-align: right;\n",
       "    }\n",
       "</style>\n",
       "<table border=\"1\" class=\"dataframe\">\n",
       "  <thead>\n",
       "    <tr style=\"text-align: right;\">\n",
       "      <th></th>\n",
       "      <th>v1</th>\n",
       "      <th>v2</th>\n",
       "    </tr>\n",
       "  </thead>\n",
       "  <tbody>\n",
       "    <tr>\n",
       "      <th>0</th>\n",
       "      <td>1</td>\n",
       "      <td>Go until jurong point, crazy.. Available only ...</td>\n",
       "    </tr>\n",
       "    <tr>\n",
       "      <th>1</th>\n",
       "      <td>1</td>\n",
       "      <td>Ok lar... Joking wif u oni...</td>\n",
       "    </tr>\n",
       "    <tr>\n",
       "      <th>2</th>\n",
       "      <td>0</td>\n",
       "      <td>Free entry in 2 a wkly comp to win FA Cup fina...</td>\n",
       "    </tr>\n",
       "    <tr>\n",
       "      <th>3</th>\n",
       "      <td>1</td>\n",
       "      <td>U dun say so early hor... U c already then say...</td>\n",
       "    </tr>\n",
       "    <tr>\n",
       "      <th>4</th>\n",
       "      <td>1</td>\n",
       "      <td>Nah I don't think he goes to usf, he lives aro...</td>\n",
       "    </tr>\n",
       "    <tr>\n",
       "      <th>...</th>\n",
       "      <td>...</td>\n",
       "      <td>...</td>\n",
       "    </tr>\n",
       "    <tr>\n",
       "      <th>5567</th>\n",
       "      <td>0</td>\n",
       "      <td>This is the 2nd time we have tried 2 contact u...</td>\n",
       "    </tr>\n",
       "    <tr>\n",
       "      <th>5568</th>\n",
       "      <td>1</td>\n",
       "      <td>Will Ì_ b going to esplanade fr home?</td>\n",
       "    </tr>\n",
       "    <tr>\n",
       "      <th>5569</th>\n",
       "      <td>1</td>\n",
       "      <td>Pity, * was in mood for that. So...any other s...</td>\n",
       "    </tr>\n",
       "    <tr>\n",
       "      <th>5570</th>\n",
       "      <td>1</td>\n",
       "      <td>The guy did some bitching but I acted like i'd...</td>\n",
       "    </tr>\n",
       "    <tr>\n",
       "      <th>5571</th>\n",
       "      <td>1</td>\n",
       "      <td>Rofl. Its true to its name</td>\n",
       "    </tr>\n",
       "  </tbody>\n",
       "</table>\n",
       "<p>5572 rows × 2 columns</p>\n",
       "</div>"
      ],
      "text/plain": [
       "     v1                                                 v2\n",
       "0     1  Go until jurong point, crazy.. Available only ...\n",
       "1     1                      Ok lar... Joking wif u oni...\n",
       "2     0  Free entry in 2 a wkly comp to win FA Cup fina...\n",
       "3     1  U dun say so early hor... U c already then say...\n",
       "4     1  Nah I don't think he goes to usf, he lives aro...\n",
       "...  ..                                                ...\n",
       "5567  0  This is the 2nd time we have tried 2 contact u...\n",
       "5568  1              Will Ì_ b going to esplanade fr home?\n",
       "5569  1  Pity, * was in mood for that. So...any other s...\n",
       "5570  1  The guy did some bitching but I acted like i'd...\n",
       "5571  1                         Rofl. Its true to its name\n",
       "\n",
       "[5572 rows x 2 columns]"
      ]
     },
     "execution_count": 80,
     "metadata": {},
     "output_type": "execute_result"
    }
   ],
   "source": [
    "df.loc[:,['v1','v2']]"
   ]
  },
  {
   "cell_type": "code",
   "execution_count": 81,
   "id": "6147e6a1",
   "metadata": {},
   "outputs": [
    {
     "data": {
      "text/html": [
       "<div>\n",
       "<style scoped>\n",
       "    .dataframe tbody tr th:only-of-type {\n",
       "        vertical-align: middle;\n",
       "    }\n",
       "\n",
       "    .dataframe tbody tr th {\n",
       "        vertical-align: top;\n",
       "    }\n",
       "\n",
       "    .dataframe thead th {\n",
       "        text-align: right;\n",
       "    }\n",
       "</style>\n",
       "<table border=\"1\" class=\"dataframe\">\n",
       "  <thead>\n",
       "    <tr style=\"text-align: right;\">\n",
       "      <th></th>\n",
       "      <th>v1</th>\n",
       "      <th>v2</th>\n",
       "    </tr>\n",
       "  </thead>\n",
       "  <tbody>\n",
       "    <tr>\n",
       "      <th>0</th>\n",
       "      <td>1</td>\n",
       "      <td>Go until jurong point, crazy.. Available only ...</td>\n",
       "    </tr>\n",
       "    <tr>\n",
       "      <th>1</th>\n",
       "      <td>1</td>\n",
       "      <td>Ok lar... Joking wif u oni...</td>\n",
       "    </tr>\n",
       "    <tr>\n",
       "      <th>2</th>\n",
       "      <td>0</td>\n",
       "      <td>Free entry in 2 a wkly comp to win FA Cup fina...</td>\n",
       "    </tr>\n",
       "    <tr>\n",
       "      <th>3</th>\n",
       "      <td>1</td>\n",
       "      <td>U dun say so early hor... U c already then say...</td>\n",
       "    </tr>\n",
       "    <tr>\n",
       "      <th>4</th>\n",
       "      <td>1</td>\n",
       "      <td>Nah I don't think he goes to usf, he lives aro...</td>\n",
       "    </tr>\n",
       "  </tbody>\n",
       "</table>\n",
       "</div>"
      ],
      "text/plain": [
       "  v1                                                 v2\n",
       "0  1  Go until jurong point, crazy.. Available only ...\n",
       "1  1                      Ok lar... Joking wif u oni...\n",
       "2  0  Free entry in 2 a wkly comp to win FA Cup fina...\n",
       "3  1  U dun say so early hor... U c already then say...\n",
       "4  1  Nah I don't think he goes to usf, he lives aro..."
      ]
     },
     "execution_count": 81,
     "metadata": {},
     "output_type": "execute_result"
    }
   ],
   "source": [
    "df.head()"
   ]
  },
  {
   "cell_type": "code",
   "execution_count": 82,
   "id": "77d4cc53",
   "metadata": {},
   "outputs": [
    {
     "data": {
      "text/plain": [
       "(5572, 2)"
      ]
     },
     "execution_count": 82,
     "metadata": {},
     "output_type": "execute_result"
    }
   ],
   "source": [
    "df.shape"
   ]
  },
  {
   "cell_type": "code",
   "execution_count": 83,
   "id": "e4d1bc46",
   "metadata": {},
   "outputs": [],
   "source": [
    "#ham-1\n",
    "#spam-0\n",
    "df.loc[df['v1']=='ham','v1'] = 1\n",
    "df.loc[df['v1']=='spam','v1'] = 0"
   ]
  },
  {
   "cell_type": "code",
   "execution_count": 99,
   "id": "9217469d",
   "metadata": {},
   "outputs": [
    {
     "name": "stdout",
     "output_type": "stream",
     "text": [
      "0       Go until jurong point, crazy.. Available only ...\n",
      "1                           Ok lar... Joking wif u oni...\n",
      "2       Free entry in 2 a wkly comp to win FA Cup fina...\n",
      "3       U dun say so early hor... U c already then say...\n",
      "4       Nah I don't think he goes to usf, he lives aro...\n",
      "                              ...                        \n",
      "5567    This is the 2nd time we have tried 2 contact u...\n",
      "5568                Will Ì_ b going to esplanade fr home?\n",
      "5569    Pity, * was in mood for that. So...any other s...\n",
      "5570    The guy did some bitching but I acted like i'd...\n",
      "5571                           Rofl. Its true to its name\n",
      "Name: v2, Length: 5572, dtype: object\n"
     ]
    }
   ],
   "source": [
    "x = df['v2']\n",
    "y = df['v1']\n",
    "print(x)"
   ]
  },
  {
   "cell_type": "code",
   "execution_count": 87,
   "id": "f08f7357",
   "metadata": {},
   "outputs": [],
   "source": [
    "#train_test_data"
   ]
  },
  {
   "cell_type": "code",
   "execution_count": 88,
   "id": "2710f8af",
   "metadata": {},
   "outputs": [],
   "source": [
    "from sklearn.model_selection import train_test_split"
   ]
  },
  {
   "cell_type": "code",
   "execution_count": 90,
   "id": "d509fe0b",
   "metadata": {},
   "outputs": [
    {
     "name": "stdout",
     "output_type": "stream",
     "text": [
      "(4457,)\n",
      "(1115,)\n",
      "(4457,)\n",
      "(1115,)\n"
     ]
    }
   ],
   "source": [
    "x_train,x_test,y_train,y_test = train_test_split(x,y,test_size=0.2,random_state=3)\n",
    "\n",
    "print(x_train.shape)\n",
    "print(x_test.shape)\n",
    "print(y_train.shape)\n",
    "print(y_test.shape)"
   ]
  },
  {
   "cell_type": "code",
   "execution_count": 91,
   "id": "7b33664d",
   "metadata": {},
   "outputs": [],
   "source": [
    "from sklearn.feature_extraction.text import TfidfVectorizer"
   ]
  },
  {
   "cell_type": "code",
   "execution_count": 111,
   "id": "fd69803f",
   "metadata": {},
   "outputs": [
    {
     "name": "stdout",
     "output_type": "stream",
     "text": [
      "  (0, 741)\t0.3219352588930141\n",
      "  (0, 3979)\t0.2410582143632299\n",
      "  (0, 4296)\t0.3891385935794867\n",
      "  (0, 6599)\t0.20296878731699391\n",
      "  (0, 3386)\t0.3219352588930141\n",
      "  (0, 2122)\t0.38613577623520473\n",
      "  (0, 3136)\t0.440116181574609\n",
      "  (0, 3262)\t0.25877035357606315\n",
      "  (0, 3380)\t0.21807195185332803\n",
      "  (0, 4513)\t0.2909649098524696\n",
      "  (1, 4061)\t0.380431198316959\n",
      "  (1, 6872)\t0.4306015894277422\n",
      "  (1, 6417)\t0.4769136859540388\n",
      "  (1, 6442)\t0.5652509076654626\n",
      "  (1, 7443)\t0.35056971070320353\n",
      "  (2, 933)\t0.4917598465723273\n",
      "  (2, 2109)\t0.42972812260098503\n",
      "  (2, 3917)\t0.40088501350982736\n",
      "  (2, 2226)\t0.413484525934624\n",
      "  (2, 5825)\t0.4917598465723273\n",
      "  (3, 6140)\t0.4903863168693604\n",
      "  (3, 1599)\t0.5927091854194291\n",
      "  (3, 1842)\t0.3708680641487708\n",
      "  (3, 7453)\t0.5202633571003087\n",
      "  (4, 2531)\t0.7419319091456392\n",
      "  :\t:\n",
      "  (4452, 2122)\t0.31002103760284144\n",
      "  (4453, 999)\t0.6760129013031282\n",
      "  (4453, 7273)\t0.5787739591782677\n",
      "  (4453, 1762)\t0.45610005640082985\n",
      "  (4454, 3029)\t0.42618909997886\n",
      "  (4454, 2086)\t0.3809693742808703\n",
      "  (4454, 3088)\t0.34475593009514444\n",
      "  (4454, 2001)\t0.4166919007849217\n",
      "  (4454, 1049)\t0.31932060116006045\n",
      "  (4454, 7346)\t0.31166263834107377\n",
      "  (4454, 5370)\t0.42618909997886\n",
      "  (4455, 1148)\t0.38998123077430413\n",
      "  (4455, 6433)\t0.38998123077430413\n",
      "  (4455, 6361)\t0.25697343671652706\n",
      "  (4455, 2764)\t0.3226323745940581\n",
      "  (4455, 7358)\t0.2915949626395065\n",
      "  (4455, 7407)\t0.3028481995557642\n",
      "  (4455, 2108)\t0.3136468384526087\n",
      "  (4455, 4251)\t0.30616657078392584\n",
      "  (4455, 3763)\t0.16807158405536876\n",
      "  (4455, 4773)\t0.35860460546223444\n",
      "  (4456, 6117)\t0.5304350313291551\n",
      "  (4456, 6133)\t0.5304350313291551\n",
      "  (4456, 1386)\t0.4460036316446079\n",
      "  (4456, 4557)\t0.48821933148688146\n"
     ]
    }
   ],
   "source": [
    "tfv = TfidfVectorizer(min_df=1, stop_words='english', lowercase='True')\n",
    "x_train_tfv = tfv.fit_transform(x_train)\n",
    "x_test_tfv = tfv.transform(x_test)\n",
    "\n",
    "print(x_train_tfv)\n",
    "\n",
    "y_train = y_train.astype('int')\n",
    "y_test = y_test.astype('int')"
   ]
  },
  {
   "cell_type": "code",
   "execution_count": 112,
   "id": "56efab17",
   "metadata": {},
   "outputs": [],
   "source": [
    "from sklearn.linear_model import LogisticRegression"
   ]
  },
  {
   "cell_type": "code",
   "execution_count": 113,
   "id": "63e3c072",
   "metadata": {},
   "outputs": [
    {
     "data": {
      "text/plain": [
       "LogisticRegression()"
      ]
     },
     "execution_count": 113,
     "metadata": {},
     "output_type": "execute_result"
    }
   ],
   "source": [
    "lr = LogisticRegression()\n",
    "lr.fit(x_train_tfv,y_train)"
   ]
  },
  {
   "cell_type": "code",
   "execution_count": 114,
   "id": "75752b36",
   "metadata": {},
   "outputs": [
    {
     "data": {
      "text/plain": [
       "0.9623318385650225"
      ]
     },
     "execution_count": 114,
     "metadata": {},
     "output_type": "execute_result"
    }
   ],
   "source": [
    "lr.score(x_test_tfv,y_test)"
   ]
  },
  {
   "cell_type": "code",
   "execution_count": 119,
   "id": "3eddf1ce",
   "metadata": {},
   "outputs": [],
   "source": [
    "from sklearn.metrics import accuracy_score"
   ]
  },
  {
   "cell_type": "code",
   "execution_count": 123,
   "id": "4c9546cc",
   "metadata": {},
   "outputs": [
    {
     "data": {
      "text/plain": [
       "0.9661207089970832"
      ]
     },
     "execution_count": 123,
     "metadata": {},
     "output_type": "execute_result"
    }
   ],
   "source": [
    "pred_train = lr.predict(x_train_tfv)\n",
    "as_train = accuracy_score(pred_train,y_train)\n",
    "\n",
    "as_train"
   ]
  },
  {
   "cell_type": "code",
   "execution_count": 124,
   "id": "d1ee11a6",
   "metadata": {},
   "outputs": [
    {
     "data": {
      "text/plain": [
       "0.9623318385650225"
      ]
     },
     "execution_count": 124,
     "metadata": {},
     "output_type": "execute_result"
    }
   ],
   "source": [
    "pred_test = lr.predict(x_test_tfv)\n",
    "as_test = accuracy_score(pred_test,y_test)\n",
    "\n",
    "as_test"
   ]
  },
  {
   "cell_type": "code",
   "execution_count": 125,
   "id": "da476ef6",
   "metadata": {},
   "outputs": [
    {
     "name": "stdout",
     "output_type": "stream",
     "text": [
      "This is Ham Mail\n"
     ]
    }
   ],
   "source": [
    "input_mails = [\"I've been searching for the right words to thank you for this breather. I promise i wont take your help for granted and will fulfil my promise. You have been wonderful and a blessing at all times\"]\n",
    "\n",
    "input_mails = tfv.transform(input_mails)\n",
    "pred = lr.predict(input_mails)\n",
    "\n",
    "if pred[0]==0:\n",
    "    print('This is Spam Mail')\n",
    "else:\n",
    "    print('This is Ham Mail')"
   ]
  }
 ],
 "metadata": {
  "kernelspec": {
   "display_name": "Python 3 (ipykernel)",
   "language": "python",
   "name": "python3"
  },
  "language_info": {
   "codemirror_mode": {
    "name": "ipython",
    "version": 3
   },
   "file_extension": ".py",
   "mimetype": "text/x-python",
   "name": "python",
   "nbconvert_exporter": "python",
   "pygments_lexer": "ipython3",
   "version": "3.9.7"
  }
 },
 "nbformat": 4,
 "nbformat_minor": 5
}
